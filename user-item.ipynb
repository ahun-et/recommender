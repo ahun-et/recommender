{
 "cells": [
  {
   "cell_type": "code",
   "execution_count": 10,
   "id": "27eddc31",
   "metadata": {
    "scrolled": true
   },
   "outputs": [],
   "source": [
    "# Import Packages\n",
    "import os\n",
    "import pandas as pd\n",
    "\n",
    "from pymongo import MongoClient"
   ]
  },
  {
   "cell_type": "code",
   "execution_count": 12,
   "id": "0b23e594",
   "metadata": {},
   "outputs": [],
   "source": [
    "# Mongodb Connection\n",
    "client = MongoClient('mongodb://127.0.0.1:27017/ahunbackup?retryWrites=true&w=majority&serverSelectionTimeoutMS=300')\n",
    "db = client.ahunbackup"
   ]
  },
  {
   "cell_type": "code",
   "execution_count": 27,
   "id": "4ac0b936",
   "metadata": {},
   "outputs": [
    {
     "name": "stdout",
     "output_type": "stream",
     "text": [
      "[{'_id': ObjectId('5cc51a0b3a614e0024005237'), 'followers': 96, 'followings': 7, 'vibeLine': 7, 'username': 'habibb', 'name': 'habib', 'bio': 'Days like this!', 'profilePic': '429oa10jv49t6by3e4292c0-5970-11e9-ba44-19c2deb4fdc1', 'account': ObjectId('5cc51a0b3a614e0024005236'), 'created_at': datetime.datetime(2019, 4, 28, 3, 12, 11, 572000), 'updated_at': datetime.datetime(2021, 4, 4, 16, 11, 16, 70000), '__v': 1, 'isVerified': False, 'phoneNumber': '941-23-24-84', 'media': []}]\n"
     ]
    }
   ],
   "source": [
    "# Get all users from mongodb\n",
    "users = list(db['users'].find({}))\n",
    "print(users[:1])"
   ]
  },
  {
   "cell_type": "code",
   "execution_count": 26,
   "id": "c56780d4",
   "metadata": {},
   "outputs": [
    {
     "name": "stdout",
     "output_type": "stream",
     "text": [
      "[{'_id': ObjectId('5cc51c9f3a614e0024005239'), 'images': ['1ffh10jv0dcjquf0024f00-5970-11e9-af74-ff8ad8663e6f'], 'likes': 7, 'comments': 2, 'caption': 'Finally, I can proudly say the New Pizza Hut restaurant is a must try in Addis. With its airy space in Bole and an open-ish kitchen, the place is buzzing and welcoming. \\n\\nThe friendly vibe and the tempting produce on display makes you feel these are good people who want to feed you with good food – and they’ll do it all day. \\n\\nThe Chicken Supreme and Hot & Spicy Beef Pizza, like many of The Pizza Hut’s carefully-made servings, are one of the best I tried and strongly recommend it!', 'business': ObjectId('5cc51c9f3a614e0024005238'), 'user': ObjectId('5cc51a0b3a614e0024005237'), 'created_at': datetime.datetime(2019, 4, 28, 3, 23, 11, 574000), 'updated_at': datetime.datetime(2021, 2, 5, 19, 42, 59, 874000), '__v': 2, 'shares': 0, 'views': 0, 'hottness': 162.2986646, 'isSpam': False, 'uuid': [], 'media': [{'_id': ObjectId('5fe091a9092fb78d036e8c8c'), 'filename': '1ffh10jv0dcjquf0024f00-5970-11e9-af74-ff8ad8663e6f'}], 'visibility': 0, 'activityType': [ObjectId('601ad7226b2fe12028e7d4d9')]}]\n"
     ]
    }
   ],
   "source": [
    "# Get all vibes from `vibes`\n",
    "vibes = list(db['vibes'].find({}))\n",
    "print(vibes[:1])"
   ]
  },
  {
   "cell_type": "code",
   "execution_count": 41,
   "id": "cdfdcade",
   "metadata": {},
   "outputs": [
    {
     "ename": "KeyboardInterrupt",
     "evalue": "",
     "output_type": "error",
     "traceback": [
      "\u001b[0;31m---------------------------------------------------------------------------\u001b[0m",
      "\u001b[0;31mKeyboardInterrupt\u001b[0m                         Traceback (most recent call last)",
      "\u001b[0;32m<ipython-input-41-45047cb0cd6a>\u001b[0m in \u001b[0;36m<module>\u001b[0;34m\u001b[0m\n\u001b[1;32m      9\u001b[0m \u001b[0;34m\u001b[0m\u001b[0m\n\u001b[1;32m     10\u001b[0m \u001b[0;32mfor\u001b[0m \u001b[0mindex\u001b[0m\u001b[0;34m,\u001b[0m \u001b[0muser\u001b[0m \u001b[0;32min\u001b[0m \u001b[0menumerate\u001b[0m\u001b[0;34m(\u001b[0m\u001b[0musers\u001b[0m\u001b[0;34m)\u001b[0m\u001b[0;34m:\u001b[0m\u001b[0;34m\u001b[0m\u001b[0;34m\u001b[0m\u001b[0m\n\u001b[0;32m---> 11\u001b[0;31m     \u001b[0muser_item_mx\u001b[0m\u001b[0;34m.\u001b[0m\u001b[0mloc\u001b[0m\u001b[0;34m[\u001b[0m\u001b[0mindex\u001b[0m\u001b[0;34m,\u001b[0m \u001b[0;34m'user_id'\u001b[0m\u001b[0;34m]\u001b[0m \u001b[0;34m=\u001b[0m \u001b[0mstr\u001b[0m\u001b[0;34m(\u001b[0m\u001b[0muser\u001b[0m\u001b[0;34m[\u001b[0m\u001b[0;34m'_id'\u001b[0m\u001b[0;34m]\u001b[0m\u001b[0;34m)\u001b[0m\u001b[0;34m\u001b[0m\u001b[0;34m\u001b[0m\u001b[0m\n\u001b[0m\u001b[1;32m     12\u001b[0m \u001b[0;34m\u001b[0m\u001b[0m\n\u001b[1;32m     13\u001b[0m \u001b[0mprint\u001b[0m\u001b[0;34m(\u001b[0m\u001b[0muser_item_mx\u001b[0m\u001b[0;34m.\u001b[0m\u001b[0mhead\u001b[0m\u001b[0;34m(\u001b[0m\u001b[0;36m1\u001b[0m\u001b[0;34m)\u001b[0m\u001b[0;34m)\u001b[0m\u001b[0;34m\u001b[0m\u001b[0;34m\u001b[0m\u001b[0m\n",
      "\u001b[0;32m~/.local/lib/python3.8/site-packages/pandas/core/indexing.py\u001b[0m in \u001b[0;36m__setitem__\u001b[0;34m(self, key, value)\u001b[0m\n\u001b[1;32m    690\u001b[0m \u001b[0;34m\u001b[0m\u001b[0m\n\u001b[1;32m    691\u001b[0m         \u001b[0miloc\u001b[0m \u001b[0;34m=\u001b[0m \u001b[0mself\u001b[0m \u001b[0;32mif\u001b[0m \u001b[0mself\u001b[0m\u001b[0;34m.\u001b[0m\u001b[0mname\u001b[0m \u001b[0;34m==\u001b[0m \u001b[0;34m\"iloc\"\u001b[0m \u001b[0;32melse\u001b[0m \u001b[0mself\u001b[0m\u001b[0;34m.\u001b[0m\u001b[0mobj\u001b[0m\u001b[0;34m.\u001b[0m\u001b[0miloc\u001b[0m\u001b[0;34m\u001b[0m\u001b[0;34m\u001b[0m\u001b[0m\n\u001b[0;32m--> 692\u001b[0;31m         \u001b[0miloc\u001b[0m\u001b[0;34m.\u001b[0m\u001b[0m_setitem_with_indexer\u001b[0m\u001b[0;34m(\u001b[0m\u001b[0mindexer\u001b[0m\u001b[0;34m,\u001b[0m \u001b[0mvalue\u001b[0m\u001b[0;34m,\u001b[0m \u001b[0mself\u001b[0m\u001b[0;34m.\u001b[0m\u001b[0mname\u001b[0m\u001b[0;34m)\u001b[0m\u001b[0;34m\u001b[0m\u001b[0;34m\u001b[0m\u001b[0m\n\u001b[0m\u001b[1;32m    693\u001b[0m \u001b[0;34m\u001b[0m\u001b[0m\n\u001b[1;32m    694\u001b[0m     \u001b[0;32mdef\u001b[0m \u001b[0m_validate_key\u001b[0m\u001b[0;34m(\u001b[0m\u001b[0mself\u001b[0m\u001b[0;34m,\u001b[0m \u001b[0mkey\u001b[0m\u001b[0;34m,\u001b[0m \u001b[0maxis\u001b[0m\u001b[0;34m:\u001b[0m \u001b[0mint\u001b[0m\u001b[0;34m)\u001b[0m\u001b[0;34m:\u001b[0m\u001b[0;34m\u001b[0m\u001b[0;34m\u001b[0m\u001b[0m\n",
      "\u001b[0;31mKeyboardInterrupt\u001b[0m: "
     ]
    }
   ],
   "source": [
    "# For each user\n",
    "#  - Calculate estimated rating, set non seen vibes to `None|NaN`\n",
    "#  - Create user/vibe Matrix\n",
    "\n",
    "cols =[str(f['_id']) for f in vibes]\n",
    "cols.insert(0, 'user_id')\n",
    "\n",
    "user_item_mx = pd.DataFrame(columns=list(cols))\n",
    "\n",
    "for index, user in enumerate(users):\n",
    "    user_item_mx.loc[index, 'user_id'] = str(user['_id'])\n",
    "    IR = \n",
    "    break\n",
    "    \n",
    "print(user_item_mx.head(1))"
   ]
  }
 ],
 "metadata": {
  "kernelspec": {
   "display_name": "Python 3",
   "language": "python",
   "name": "python3"
  },
  "language_info": {
   "codemirror_mode": {
    "name": "ipython",
    "version": 3
   },
   "file_extension": ".py",
   "mimetype": "text/x-python",
   "name": "python",
   "nbconvert_exporter": "python",
   "pygments_lexer": "ipython3",
   "version": "3.8.5"
  }
 },
 "nbformat": 4,
 "nbformat_minor": 5
}
